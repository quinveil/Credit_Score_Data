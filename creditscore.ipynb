{
 "cells": [
  {
   "cell_type": "code",
   "execution_count": 1,
   "metadata": {},
   "outputs": [],
   "source": [
    "import numpy as np\n",
    "import pandas as pd\n",
    "import matplotlib.pyplot as plt\n",
    "import seaborn as sns\n",
    "import scipy.stats as stats\n",
    "import statistics\n",
    "\n",
    "from sklearn.model_selection import train_test_split\n",
    "from sklearn.model_selection import cross_val_score\n",
    "from sklearn.neighbors import KNeighborsClassifier\n",
    "from sklearn.metrics import accuracy_score, precision_score, recall_score,classification_report,confusion_matrix"
   ]
  },
  {
   "cell_type": "code",
   "execution_count": 2,
   "metadata": {},
   "outputs": [
    {
     "name": "stderr",
     "output_type": "stream",
     "text": [
      "C:\\Users\\root\\AppData\\Local\\Temp\\ipykernel_10776\\2878882337.py:1: DtypeWarning: Columns (26) have mixed types. Specify dtype option on import or set low_memory=False.\n",
      "  df_train_original = pd.read_csv('Credit Score.csv')\n"
     ]
    },
    {
     "data": {
      "text/html": [
       "<div>\n",
       "<style scoped>\n",
       "    .dataframe tbody tr th:only-of-type {\n",
       "        vertical-align: middle;\n",
       "    }\n",
       "\n",
       "    .dataframe tbody tr th {\n",
       "        vertical-align: top;\n",
       "    }\n",
       "\n",
       "    .dataframe thead th {\n",
       "        text-align: right;\n",
       "    }\n",
       "</style>\n",
       "<table border=\"1\" class=\"dataframe\">\n",
       "  <thead>\n",
       "    <tr style=\"text-align: right;\">\n",
       "      <th></th>\n",
       "      <th>ID</th>\n",
       "      <th>Customer_ID</th>\n",
       "      <th>Month</th>\n",
       "      <th>Name</th>\n",
       "      <th>Age</th>\n",
       "      <th>SSN</th>\n",
       "      <th>Occupation</th>\n",
       "      <th>Annual_Income</th>\n",
       "      <th>Monthly_Inhand_Salary</th>\n",
       "      <th>Num_Bank_Accounts</th>\n",
       "      <th>...</th>\n",
       "      <th>Credit_Mix</th>\n",
       "      <th>Outstanding_Debt</th>\n",
       "      <th>Credit_Utilization_Ratio</th>\n",
       "      <th>Credit_History_Age</th>\n",
       "      <th>Payment_of_Min_Amount</th>\n",
       "      <th>Total_EMI_per_month</th>\n",
       "      <th>Amount_invested_monthly</th>\n",
       "      <th>Payment_Behaviour</th>\n",
       "      <th>Monthly_Balance</th>\n",
       "      <th>Credit_Score</th>\n",
       "    </tr>\n",
       "  </thead>\n",
       "  <tbody>\n",
       "    <tr>\n",
       "      <th>0</th>\n",
       "      <td>0x1602</td>\n",
       "      <td>CUS_0xd40</td>\n",
       "      <td>January</td>\n",
       "      <td>Aaron Maashoh</td>\n",
       "      <td>23</td>\n",
       "      <td>821-00-0265</td>\n",
       "      <td>Scientist</td>\n",
       "      <td>19114.12</td>\n",
       "      <td>1824.843333</td>\n",
       "      <td>3</td>\n",
       "      <td>...</td>\n",
       "      <td>_</td>\n",
       "      <td>809.98</td>\n",
       "      <td>26.822620</td>\n",
       "      <td>22 Years and 1 Months</td>\n",
       "      <td>No</td>\n",
       "      <td>49.574949</td>\n",
       "      <td>80.41529543900253</td>\n",
       "      <td>High_spent_Small_value_payments</td>\n",
       "      <td>312.49408867943663</td>\n",
       "      <td>Good</td>\n",
       "    </tr>\n",
       "    <tr>\n",
       "      <th>1</th>\n",
       "      <td>0x1603</td>\n",
       "      <td>CUS_0xd40</td>\n",
       "      <td>February</td>\n",
       "      <td>Aaron Maashoh</td>\n",
       "      <td>23</td>\n",
       "      <td>821-00-0265</td>\n",
       "      <td>Scientist</td>\n",
       "      <td>19114.12</td>\n",
       "      <td>NaN</td>\n",
       "      <td>3</td>\n",
       "      <td>...</td>\n",
       "      <td>Good</td>\n",
       "      <td>809.98</td>\n",
       "      <td>31.944960</td>\n",
       "      <td>NaN</td>\n",
       "      <td>No</td>\n",
       "      <td>49.574949</td>\n",
       "      <td>118.28022162236736</td>\n",
       "      <td>Low_spent_Large_value_payments</td>\n",
       "      <td>284.62916249607184</td>\n",
       "      <td>Good</td>\n",
       "    </tr>\n",
       "    <tr>\n",
       "      <th>2</th>\n",
       "      <td>0x1604</td>\n",
       "      <td>CUS_0xd40</td>\n",
       "      <td>March</td>\n",
       "      <td>Aaron Maashoh</td>\n",
       "      <td>-500</td>\n",
       "      <td>821-00-0265</td>\n",
       "      <td>Scientist</td>\n",
       "      <td>19114.12</td>\n",
       "      <td>NaN</td>\n",
       "      <td>3</td>\n",
       "      <td>...</td>\n",
       "      <td>Good</td>\n",
       "      <td>809.98</td>\n",
       "      <td>28.609352</td>\n",
       "      <td>22 Years and 3 Months</td>\n",
       "      <td>No</td>\n",
       "      <td>49.574949</td>\n",
       "      <td>81.699521264648</td>\n",
       "      <td>Low_spent_Medium_value_payments</td>\n",
       "      <td>331.2098628537912</td>\n",
       "      <td>Good</td>\n",
       "    </tr>\n",
       "    <tr>\n",
       "      <th>3</th>\n",
       "      <td>0x1605</td>\n",
       "      <td>CUS_0xd40</td>\n",
       "      <td>April</td>\n",
       "      <td>Aaron Maashoh</td>\n",
       "      <td>23</td>\n",
       "      <td>821-00-0265</td>\n",
       "      <td>Scientist</td>\n",
       "      <td>19114.12</td>\n",
       "      <td>NaN</td>\n",
       "      <td>3</td>\n",
       "      <td>...</td>\n",
       "      <td>Good</td>\n",
       "      <td>809.98</td>\n",
       "      <td>31.377862</td>\n",
       "      <td>22 Years and 4 Months</td>\n",
       "      <td>No</td>\n",
       "      <td>49.574949</td>\n",
       "      <td>199.4580743910713</td>\n",
       "      <td>Low_spent_Small_value_payments</td>\n",
       "      <td>223.45130972736786</td>\n",
       "      <td>Good</td>\n",
       "    </tr>\n",
       "    <tr>\n",
       "      <th>4</th>\n",
       "      <td>0x1606</td>\n",
       "      <td>CUS_0xd40</td>\n",
       "      <td>May</td>\n",
       "      <td>Aaron Maashoh</td>\n",
       "      <td>23</td>\n",
       "      <td>821-00-0265</td>\n",
       "      <td>Scientist</td>\n",
       "      <td>19114.12</td>\n",
       "      <td>1824.843333</td>\n",
       "      <td>3</td>\n",
       "      <td>...</td>\n",
       "      <td>Good</td>\n",
       "      <td>809.98</td>\n",
       "      <td>24.797347</td>\n",
       "      <td>22 Years and 5 Months</td>\n",
       "      <td>No</td>\n",
       "      <td>49.574949</td>\n",
       "      <td>41.420153086217326</td>\n",
       "      <td>High_spent_Medium_value_payments</td>\n",
       "      <td>341.48923103222177</td>\n",
       "      <td>Good</td>\n",
       "    </tr>\n",
       "  </tbody>\n",
       "</table>\n",
       "<p>5 rows × 28 columns</p>\n",
       "</div>"
      ],
      "text/plain": [
       "       ID Customer_ID     Month           Name   Age          SSN Occupation  \\\n",
       "0  0x1602   CUS_0xd40   January  Aaron Maashoh    23  821-00-0265  Scientist   \n",
       "1  0x1603   CUS_0xd40  February  Aaron Maashoh    23  821-00-0265  Scientist   \n",
       "2  0x1604   CUS_0xd40     March  Aaron Maashoh  -500  821-00-0265  Scientist   \n",
       "3  0x1605   CUS_0xd40     April  Aaron Maashoh    23  821-00-0265  Scientist   \n",
       "4  0x1606   CUS_0xd40       May  Aaron Maashoh    23  821-00-0265  Scientist   \n",
       "\n",
       "  Annual_Income  Monthly_Inhand_Salary  Num_Bank_Accounts  ...  Credit_Mix  \\\n",
       "0      19114.12            1824.843333                  3  ...           _   \n",
       "1      19114.12                    NaN                  3  ...        Good   \n",
       "2      19114.12                    NaN                  3  ...        Good   \n",
       "3      19114.12                    NaN                  3  ...        Good   \n",
       "4      19114.12            1824.843333                  3  ...        Good   \n",
       "\n",
       "   Outstanding_Debt Credit_Utilization_Ratio     Credit_History_Age  \\\n",
       "0            809.98                26.822620  22 Years and 1 Months   \n",
       "1            809.98                31.944960                    NaN   \n",
       "2            809.98                28.609352  22 Years and 3 Months   \n",
       "3            809.98                31.377862  22 Years and 4 Months   \n",
       "4            809.98                24.797347  22 Years and 5 Months   \n",
       "\n",
       "   Payment_of_Min_Amount Total_EMI_per_month Amount_invested_monthly  \\\n",
       "0                     No           49.574949       80.41529543900253   \n",
       "1                     No           49.574949      118.28022162236736   \n",
       "2                     No           49.574949         81.699521264648   \n",
       "3                     No           49.574949       199.4580743910713   \n",
       "4                     No           49.574949      41.420153086217326   \n",
       "\n",
       "                  Payment_Behaviour     Monthly_Balance Credit_Score  \n",
       "0   High_spent_Small_value_payments  312.49408867943663         Good  \n",
       "1    Low_spent_Large_value_payments  284.62916249607184         Good  \n",
       "2   Low_spent_Medium_value_payments   331.2098628537912         Good  \n",
       "3    Low_spent_Small_value_payments  223.45130972736786         Good  \n",
       "4  High_spent_Medium_value_payments  341.48923103222177         Good  \n",
       "\n",
       "[5 rows x 28 columns]"
      ]
     },
     "execution_count": 2,
     "metadata": {},
     "output_type": "execute_result"
    }
   ],
   "source": [
    "df_train_original = pd.read_csv('Credit Score.csv')\n",
    "df_train = df_train_original.copy()\n",
    "df_train.head()"
   ]
  },
  {
   "cell_type": "code",
   "execution_count": 3,
   "metadata": {},
   "outputs": [
    {
     "name": "stdout",
     "output_type": "stream",
     "text": [
      "<class 'pandas.core.frame.DataFrame'>\n",
      "RangeIndex: 100000 entries, 0 to 99999\n",
      "Data columns (total 28 columns):\n",
      " #   Column                    Non-Null Count   Dtype  \n",
      "---  ------                    --------------   -----  \n",
      " 0   ID                        100000 non-null  object \n",
      " 1   Customer_ID               100000 non-null  object \n",
      " 2   Month                     100000 non-null  object \n",
      " 3   Name                      90015 non-null   object \n",
      " 4   Age                       100000 non-null  object \n",
      " 5   SSN                       100000 non-null  object \n",
      " 6   Occupation                100000 non-null  object \n",
      " 7   Annual_Income             100000 non-null  object \n",
      " 8   Monthly_Inhand_Salary     84998 non-null   float64\n",
      " 9   Num_Bank_Accounts         100000 non-null  int64  \n",
      " 10  Num_Credit_Card           100000 non-null  int64  \n",
      " 11  Interest_Rate             100000 non-null  int64  \n",
      " 12  Num_of_Loan               100000 non-null  object \n",
      " 13  Type_of_Loan              88592 non-null   object \n",
      " 14  Delay_from_due_date       100000 non-null  int64  \n",
      " 15  Num_of_Delayed_Payment    92998 non-null   object \n",
      " 16  Changed_Credit_Limit      100000 non-null  object \n",
      " 17  Num_Credit_Inquiries      98035 non-null   float64\n",
      " 18  Credit_Mix                100000 non-null  object \n",
      " 19  Outstanding_Debt          100000 non-null  object \n",
      " 20  Credit_Utilization_Ratio  100000 non-null  float64\n",
      " 21  Credit_History_Age        90970 non-null   object \n",
      " 22  Payment_of_Min_Amount     100000 non-null  object \n",
      " 23  Total_EMI_per_month       100000 non-null  float64\n",
      " 24  Amount_invested_monthly   95521 non-null   object \n",
      " 25  Payment_Behaviour         100000 non-null  object \n",
      " 26  Monthly_Balance           98800 non-null   object \n",
      " 27  Credit_Score              100000 non-null  object \n",
      "dtypes: float64(4), int64(4), object(20)\n",
      "memory usage: 21.4+ MB\n"
     ]
    }
   ],
   "source": [
    "df_train.info()"
   ]
  },
  {
   "cell_type": "code",
   "execution_count": 4,
   "metadata": {},
   "outputs": [
    {
     "data": {
      "text/html": [
       "<div>\n",
       "<style scoped>\n",
       "    .dataframe tbody tr th:only-of-type {\n",
       "        vertical-align: middle;\n",
       "    }\n",
       "\n",
       "    .dataframe tbody tr th {\n",
       "        vertical-align: top;\n",
       "    }\n",
       "\n",
       "    .dataframe thead th {\n",
       "        text-align: right;\n",
       "    }\n",
       "</style>\n",
       "<table border=\"1\" class=\"dataframe\">\n",
       "  <thead>\n",
       "    <tr style=\"text-align: right;\">\n",
       "      <th></th>\n",
       "      <th>count</th>\n",
       "      <th>unique</th>\n",
       "      <th>top</th>\n",
       "      <th>freq</th>\n",
       "    </tr>\n",
       "  </thead>\n",
       "  <tbody>\n",
       "    <tr>\n",
       "      <th>ID</th>\n",
       "      <td>100000</td>\n",
       "      <td>100000</td>\n",
       "      <td>0x1602</td>\n",
       "      <td>1</td>\n",
       "    </tr>\n",
       "    <tr>\n",
       "      <th>Customer_ID</th>\n",
       "      <td>100000</td>\n",
       "      <td>12500</td>\n",
       "      <td>CUS_0xd40</td>\n",
       "      <td>8</td>\n",
       "    </tr>\n",
       "    <tr>\n",
       "      <th>Month</th>\n",
       "      <td>100000</td>\n",
       "      <td>8</td>\n",
       "      <td>January</td>\n",
       "      <td>12500</td>\n",
       "    </tr>\n",
       "    <tr>\n",
       "      <th>Name</th>\n",
       "      <td>90015</td>\n",
       "      <td>10139</td>\n",
       "      <td>Langep</td>\n",
       "      <td>44</td>\n",
       "    </tr>\n",
       "    <tr>\n",
       "      <th>Age</th>\n",
       "      <td>100000</td>\n",
       "      <td>1788</td>\n",
       "      <td>38</td>\n",
       "      <td>2833</td>\n",
       "    </tr>\n",
       "    <tr>\n",
       "      <th>SSN</th>\n",
       "      <td>100000</td>\n",
       "      <td>12501</td>\n",
       "      <td>#F%$D@*&amp;8</td>\n",
       "      <td>5572</td>\n",
       "    </tr>\n",
       "    <tr>\n",
       "      <th>Occupation</th>\n",
       "      <td>100000</td>\n",
       "      <td>16</td>\n",
       "      <td>_______</td>\n",
       "      <td>7062</td>\n",
       "    </tr>\n",
       "    <tr>\n",
       "      <th>Annual_Income</th>\n",
       "      <td>100000</td>\n",
       "      <td>18940</td>\n",
       "      <td>36585.12</td>\n",
       "      <td>16</td>\n",
       "    </tr>\n",
       "    <tr>\n",
       "      <th>Num_of_Loan</th>\n",
       "      <td>100000</td>\n",
       "      <td>434</td>\n",
       "      <td>3</td>\n",
       "      <td>14386</td>\n",
       "    </tr>\n",
       "    <tr>\n",
       "      <th>Type_of_Loan</th>\n",
       "      <td>88592</td>\n",
       "      <td>6260</td>\n",
       "      <td>Not Specified</td>\n",
       "      <td>1408</td>\n",
       "    </tr>\n",
       "    <tr>\n",
       "      <th>Num_of_Delayed_Payment</th>\n",
       "      <td>92998</td>\n",
       "      <td>749</td>\n",
       "      <td>19</td>\n",
       "      <td>5327</td>\n",
       "    </tr>\n",
       "    <tr>\n",
       "      <th>Changed_Credit_Limit</th>\n",
       "      <td>100000</td>\n",
       "      <td>4384</td>\n",
       "      <td>_</td>\n",
       "      <td>2091</td>\n",
       "    </tr>\n",
       "    <tr>\n",
       "      <th>Credit_Mix</th>\n",
       "      <td>100000</td>\n",
       "      <td>4</td>\n",
       "      <td>Standard</td>\n",
       "      <td>36479</td>\n",
       "    </tr>\n",
       "    <tr>\n",
       "      <th>Outstanding_Debt</th>\n",
       "      <td>100000</td>\n",
       "      <td>13178</td>\n",
       "      <td>1360.45</td>\n",
       "      <td>24</td>\n",
       "    </tr>\n",
       "    <tr>\n",
       "      <th>Credit_History_Age</th>\n",
       "      <td>90970</td>\n",
       "      <td>404</td>\n",
       "      <td>15 Years and 11 Months</td>\n",
       "      <td>446</td>\n",
       "    </tr>\n",
       "    <tr>\n",
       "      <th>Payment_of_Min_Amount</th>\n",
       "      <td>100000</td>\n",
       "      <td>3</td>\n",
       "      <td>Yes</td>\n",
       "      <td>52326</td>\n",
       "    </tr>\n",
       "    <tr>\n",
       "      <th>Amount_invested_monthly</th>\n",
       "      <td>95521</td>\n",
       "      <td>91049</td>\n",
       "      <td>__10000__</td>\n",
       "      <td>4305</td>\n",
       "    </tr>\n",
       "    <tr>\n",
       "      <th>Payment_Behaviour</th>\n",
       "      <td>100000</td>\n",
       "      <td>7</td>\n",
       "      <td>Low_spent_Small_value_payments</td>\n",
       "      <td>25513</td>\n",
       "    </tr>\n",
       "    <tr>\n",
       "      <th>Monthly_Balance</th>\n",
       "      <td>98800</td>\n",
       "      <td>98792</td>\n",
       "      <td>__-333333333333333333333333333__</td>\n",
       "      <td>9</td>\n",
       "    </tr>\n",
       "    <tr>\n",
       "      <th>Credit_Score</th>\n",
       "      <td>100000</td>\n",
       "      <td>3</td>\n",
       "      <td>Standard</td>\n",
       "      <td>53174</td>\n",
       "    </tr>\n",
       "  </tbody>\n",
       "</table>\n",
       "</div>"
      ],
      "text/plain": [
       "                          count  unique                               top  \\\n",
       "ID                       100000  100000                            0x1602   \n",
       "Customer_ID              100000   12500                         CUS_0xd40   \n",
       "Month                    100000       8                           January   \n",
       "Name                      90015   10139                            Langep   \n",
       "Age                      100000    1788                                38   \n",
       "SSN                      100000   12501                         #F%$D@*&8   \n",
       "Occupation               100000      16                           _______   \n",
       "Annual_Income            100000   18940                          36585.12   \n",
       "Num_of_Loan              100000     434                                 3   \n",
       "Type_of_Loan              88592    6260                     Not Specified   \n",
       "Num_of_Delayed_Payment    92998     749                                19   \n",
       "Changed_Credit_Limit     100000    4384                                 _   \n",
       "Credit_Mix               100000       4                          Standard   \n",
       "Outstanding_Debt         100000   13178                           1360.45   \n",
       "Credit_History_Age        90970     404            15 Years and 11 Months   \n",
       "Payment_of_Min_Amount    100000       3                               Yes   \n",
       "Amount_invested_monthly   95521   91049                         __10000__   \n",
       "Payment_Behaviour        100000       7    Low_spent_Small_value_payments   \n",
       "Monthly_Balance           98800   98792  __-333333333333333333333333333__   \n",
       "Credit_Score             100000       3                          Standard   \n",
       "\n",
       "                          freq  \n",
       "ID                           1  \n",
       "Customer_ID                  8  \n",
       "Month                    12500  \n",
       "Name                        44  \n",
       "Age                       2833  \n",
       "SSN                       5572  \n",
       "Occupation                7062  \n",
       "Annual_Income               16  \n",
       "Num_of_Loan              14386  \n",
       "Type_of_Loan              1408  \n",
       "Num_of_Delayed_Payment    5327  \n",
       "Changed_Credit_Limit      2091  \n",
       "Credit_Mix               36479  \n",
       "Outstanding_Debt            24  \n",
       "Credit_History_Age         446  \n",
       "Payment_of_Min_Amount    52326  \n",
       "Amount_invested_monthly   4305  \n",
       "Payment_Behaviour        25513  \n",
       "Monthly_Balance              9  \n",
       "Credit_Score             53174  "
      ]
     },
     "execution_count": 4,
     "metadata": {},
     "output_type": "execute_result"
    }
   ],
   "source": [
    "df_train.describe(exclude=np.number).T"
   ]
  },
  {
   "cell_type": "code",
   "execution_count": 5,
   "metadata": {},
   "outputs": [
    {
     "data": {
      "text/plain": [
       "ID                              0\n",
       "Customer_ID                     0\n",
       "Month                           0\n",
       "Name                         9985\n",
       "Age                             0\n",
       "SSN                             0\n",
       "Occupation                      0\n",
       "Annual_Income                   0\n",
       "Monthly_Inhand_Salary       15002\n",
       "Num_Bank_Accounts               0\n",
       "Num_Credit_Card                 0\n",
       "Interest_Rate                   0\n",
       "Num_of_Loan                     0\n",
       "Type_of_Loan                11408\n",
       "Delay_from_due_date             0\n",
       "Num_of_Delayed_Payment       7002\n",
       "Changed_Credit_Limit            0\n",
       "Num_Credit_Inquiries         1965\n",
       "Credit_Mix                      0\n",
       "Outstanding_Debt                0\n",
       "Credit_Utilization_Ratio        0\n",
       "Credit_History_Age           9030\n",
       "Payment_of_Min_Amount           0\n",
       "Total_EMI_per_month             0\n",
       "Amount_invested_monthly      4479\n",
       "Payment_Behaviour               0\n",
       "Monthly_Balance              1200\n",
       "Credit_Score                    0\n",
       "dtype: int64"
      ]
     },
     "execution_count": 5,
     "metadata": {},
     "output_type": "execute_result"
    }
   ],
   "source": [
    "df_train.isnull().sum()"
   ]
  },
  {
   "cell_type": "code",
   "execution_count": 6,
   "metadata": {},
   "outputs": [],
   "source": [
    "#Drop kolom\n",
    "drop_columns = ['ID','Customer_ID','Name','SSN']\n",
    "df_train.drop(drop_columns,axis=1,inplace=True)"
   ]
  },
  {
   "cell_type": "code",
   "execution_count": 7,
   "metadata": {},
   "outputs": [
    {
     "name": "stdout",
     "output_type": "stream",
     "text": [
      "Numerical columns are ['Monthly_Inhand_Salary', 'Num_Bank_Accounts', 'Num_Credit_Card', 'Interest_Rate', 'Delay_from_due_date', 'Num_Credit_Inquiries', 'Credit_Utilization_Ratio', 'Total_EMI_per_month']\n",
      "Categorical columns are ['Month', 'Age', 'Occupation', 'Annual_Income', 'Num_of_Loan', 'Type_of_Loan', 'Num_of_Delayed_Payment', 'Changed_Credit_Limit', 'Credit_Mix', 'Outstanding_Debt', 'Credit_History_Age', 'Payment_of_Min_Amount', 'Amount_invested_monthly', 'Payment_Behaviour', 'Monthly_Balance', 'Credit_Score']\n"
     ]
    }
   ],
   "source": [
    "numericals = df_train.select_dtypes(include='number').columns.tolist()\n",
    "categorical = df_train.select_dtypes(include='object').columns.tolist()\n",
    "\n",
    "print(f\"Numerical columns are {numericals}\")\n",
    "print(f\"Categorical columns are {categorical}\")"
   ]
  },
  {
   "cell_type": "code",
   "execution_count": 8,
   "metadata": {},
   "outputs": [],
   "source": [
    "#detail kolom \n",
    "def get_column_details(df,column):\n",
    "    print(\"Details of\",column,\"column\")\n",
    "    \n",
    "    #Tipe data\n",
    "    print(\"\\nTipe Data: \",df[column].dtype)\n",
    "    \n",
    "    #Kosong atau tidak ?\n",
    "    count_null = df[column].isnull().sum()\n",
    "    if count_null==0:\n",
    "        print(\"\\nThere are no null values\")\n",
    "    elif count_null>0:\n",
    "        print(\"\\nThere are \",count_null,\" null values\")\n",
    "        \n",
    "    #Get Number of Unique Values\n",
    "    print(\"\\nNumber of Unique Values: \",df[column].nunique())\n",
    "    \n",
    "    #Get Distribution of Column    \n",
    "    print(\"\\nDistribution of column:\\n\")\n",
    "    print(df[column].value_counts())"
   ]
  },
  {
   "cell_type": "code",
   "execution_count": 9,
   "metadata": {},
   "outputs": [],
   "source": [
    "#mengisi missing value\n",
    "def fill_missing(df, column):      \n",
    "    print(\"\\nNo. of missing values before filling with group mode:\",df[column].isnull().sum())\n",
    "    \n",
    "    df[column]=df[column].fillna(df[column].mean())\n",
    "    \n",
    "    print(\"\\nNo. of missing values after filling with group mode:\",df[column].isnull().sum())"
   ]
  },
  {
   "cell_type": "code",
   "execution_count": 10,
   "metadata": {},
   "outputs": [],
   "source": [
    "#Label Encoding\n",
    "def ubah_label(df, column):\n",
    "    from sklearn.preprocessing import LabelEncoder\n",
    "\n",
    "    categorical_columns = [column]\n",
    "    # Initialize the LabelEncoder\n",
    "    label_encoder = LabelEncoder()\n",
    "    df_train[column] = label_encoder.fit_transform(df_train[column])\n",
    "    print(label_encoder.classes_)"
   ]
  },
  {
   "cell_type": "code",
   "execution_count": 11,
   "metadata": {},
   "outputs": [],
   "source": [
    "def regex(df, column, sampah=None):\n",
    "    if sampah!=None:\n",
    "        df[column] = df[column].replace(sampah,\"\")\n",
    "        print(f\"\\nSampah {sampah} is replaced with Blank\")"
   ]
  },
  {
   "cell_type": "code",
   "execution_count": 12,
   "metadata": {},
   "outputs": [],
   "source": [
    "#pengolahan categorical\n",
    "def cat_process(df, column, sampah=None):\n",
    "    regex(df, column, sampah)\n",
    "    ubah_label(df, column)"
   ]
  },
  {
   "cell_type": "code",
   "execution_count": 13,
   "metadata": {},
   "outputs": [],
   "source": [
    "#penanganan outliers menggunakan quantile\n",
    "def anti_outliers(df, column):\n",
    "    Q1=df[column].quantile(0.25)\n",
    "    Q3=df[column].quantile(0.75)\n",
    "    IQR=Q3-Q1\n",
    "    print(Q1)\n",
    "    print(Q3)\n",
    "    print(IQR)\n",
    "    lower = Q1-1.5*IQR\n",
    "    upper = Q3+1.5*IQR\n",
    "    \n",
    "    df_train[column] = pd.DataFrame(np.where(df_train[column] > upper, upper, \n",
    "         (np.where(df_train[column] < lower, lower, df_train[column]))), columns=[column])\n",
    "\n"
   ]
  },
  {
   "cell_type": "code",
   "execution_count": 14,
   "metadata": {},
   "outputs": [],
   "source": [
    "#Pengolahan Numerikal\n",
    "def num_process(df, column, strip=None, datatype=None, sampah=None):\n",
    "    #regex(df, column, sampah)\n",
    "    \n",
    "    #ngresiki strip\n",
    "    if df[column].dtype == object and strip is not None:\n",
    "        df[column] = df[column].str.strip(strip)\n",
    "        print(f\"\\nTrailing & leading {strip} are removed\")\n",
    "        \n",
    "    #ganti datatype\n",
    "    if datatype is not None:\n",
    "        df[column] = df[column].astype(datatype)\n",
    "        print(f\"\\nDatatype of {column} is changed to {datatype}\")\n",
    "    anti_outliers(df_train, column_name)"
   ]
  },
  {
   "cell_type": "code",
   "execution_count": 15,
   "metadata": {},
   "outputs": [],
   "source": [
    "#plot outlier\n",
    "def plot(df, column):\n",
    "    plt.figure(figsize=(20,10))\n",
    "    sns.boxplot(df_train[column], color=\"skyblue\")\n",
    "    plt.tight_layout()\n",
    "    \n",
    "    z = np.abs(stats.zscore(df_train[column]))\n",
    "    print(z)"
   ]
  },
  {
   "cell_type": "markdown",
   "metadata": {},
   "source": [
    "#categorical"
   ]
  },
  {
   "cell_type": "code",
   "execution_count": 16,
   "metadata": {},
   "outputs": [
    {
     "name": "stdout",
     "output_type": "stream",
     "text": [
      "Details of Credit_Score column\n",
      "\n",
      "Tipe Data:  object\n",
      "\n",
      "There are no null values\n",
      "\n",
      "Number of Unique Values:  3\n",
      "\n",
      "Distribution of column:\n",
      "\n",
      "Standard    53174\n",
      "Poor        28998\n",
      "Good        17828\n",
      "Name: Credit_Score, dtype: int64\n",
      "['Good' 'Poor' 'Standard']\n"
     ]
    }
   ],
   "source": [
    "#Credit Score\n",
    "column_name = 'Credit_Score'\n",
    "\n",
    "get_column_details(df_train, column_name)\n",
    "cat_process(df_train, column_name)\n",
    "\n"
   ]
  },
  {
   "cell_type": "code",
   "execution_count": 17,
   "metadata": {},
   "outputs": [
    {
     "name": "stdout",
     "output_type": "stream",
     "text": [
      "\n",
      "Sampah _______ is replaced with Blank\n",
      "['' 'Accountant' 'Architect' 'Developer' 'Doctor' 'Engineer'\n",
      " 'Entrepreneur' 'Journalist' 'Lawyer' 'Manager' 'Mechanic' 'Media_Manager'\n",
      " 'Musician' 'Scientist' 'Teacher' 'Writer']\n",
      "\n",
      "No. of missing values before filling with group mode: 0\n",
      "\n",
      "No. of missing values after filling with group mode: 0\n",
      "Details of Occupation column\n",
      "\n",
      "Tipe Data:  int32\n",
      "\n",
      "There are no null values\n",
      "\n",
      "Number of Unique Values:  16\n",
      "\n",
      "Distribution of column:\n",
      "\n",
      "0     7062\n",
      "8     6575\n",
      "2     6355\n",
      "5     6350\n",
      "13    6299\n",
      "10    6291\n",
      "1     6271\n",
      "3     6235\n",
      "11    6232\n",
      "14    6215\n",
      "6     6174\n",
      "4     6087\n",
      "7     6085\n",
      "9     5973\n",
      "12    5911\n",
      "15    5885\n",
      "Name: Occupation, dtype: int64\n"
     ]
    },
    {
     "data": {
      "text/plain": [
       "0"
      ]
     },
     "execution_count": 17,
     "metadata": {},
     "output_type": "execute_result"
    }
   ],
   "source": [
    "#Occupation\n",
    "column_name = 'Occupation'\n",
    "sampah = '_______'\n",
    "\n",
    "cat_process(df_train, column_name,sampah)\n",
    "fill_missing(df_train, column_name)\n",
    "get_column_details(df_train, column_name)\n",
    "df_train\n",
    "df_train['Occupation'].isnull().sum()\n"
   ]
  },
  {
   "cell_type": "code",
   "execution_count": 18,
   "metadata": {},
   "outputs": [
    {
     "name": "stdout",
     "output_type": "stream",
     "text": [
      "\n",
      "Sampah _______ is replaced with Blank\n",
      "['Auto Loan'\n",
      " 'Auto Loan, Auto Loan, Auto Loan, Auto Loan, Credit-Builder Loan, Credit-Builder Loan, Mortgage Loan, and Personal Loan'\n",
      " 'Auto Loan, Auto Loan, Auto Loan, Auto Loan, Student Loan, and Student Loan'\n",
      " ... 'Student Loan, and Personal Loan' 'Student Loan, and Student Loan'\n",
      " nan]\n",
      "\n",
      "No. of missing values before filling with group mode: 0\n",
      "\n",
      "No. of missing values after filling with group mode: 0\n",
      "Details of Type_of_Loan column\n",
      "\n",
      "Tipe Data:  int32\n",
      "\n",
      "There are no null values\n",
      "\n",
      "Number of Unique Values:  6261\n",
      "\n",
      "Distribution of column:\n",
      "\n",
      "6260    11408\n",
      "3463     1408\n",
      "684      1280\n",
      "4878     1272\n",
      "1410     1264\n",
      "        ...  \n",
      "3762        8\n",
      "4491        8\n",
      "1464        8\n",
      "5652        8\n",
      "4913        8\n",
      "Name: Type_of_Loan, Length: 6261, dtype: int64\n"
     ]
    },
    {
     "data": {
      "text/plain": [
       "0"
      ]
     },
     "execution_count": 18,
     "metadata": {},
     "output_type": "execute_result"
    }
   ],
   "source": [
    "#Type_of_Loan\n",
    "column_name = 'Type_of_Loan'\n",
    "sampah = '_______'\n",
    "\n",
    "cat_process(df_train, column_name,sampah)\n",
    "fill_missing(df_train, column_name)\n",
    "get_column_details(df_train, column_name)\n",
    "df_train\n",
    "df_train['Type_of_Loan'].isnull().sum()\n"
   ]
  },
  {
   "cell_type": "code",
   "execution_count": 19,
   "metadata": {},
   "outputs": [
    {
     "name": "stdout",
     "output_type": "stream",
     "text": [
      "\n",
      "Sampah _ is replaced with Blank\n",
      "['' 'Bad' 'Good' 'Standard']\n",
      "\n",
      "No. of missing values before filling with group mode: 0\n",
      "\n",
      "No. of missing values after filling with group mode: 0\n",
      "Details of Credit_Mix column\n",
      "\n",
      "Tipe Data:  int32\n",
      "\n",
      "There are no null values\n",
      "\n",
      "Number of Unique Values:  4\n",
      "\n",
      "Distribution of column:\n",
      "\n",
      "3    36479\n",
      "2    24337\n",
      "0    20195\n",
      "1    18989\n",
      "Name: Credit_Mix, dtype: int64\n"
     ]
    },
    {
     "data": {
      "text/plain": [
       "0"
      ]
     },
     "execution_count": 19,
     "metadata": {},
     "output_type": "execute_result"
    }
   ],
   "source": [
    "#Credit_Mix\n",
    "column_name = 'Credit_Mix'\n",
    "sampah = '_'\n",
    "\n",
    "cat_process(df_train, column_name,sampah)\n",
    "fill_missing(df_train, column_name)\n",
    "get_column_details(df_train, column_name)\n",
    "df_train\n",
    "df_train['Credit_Mix'].isnull().sum()\n"
   ]
  },
  {
   "cell_type": "code",
   "execution_count": 20,
   "metadata": {},
   "outputs": [
    {
     "name": "stdout",
     "output_type": "stream",
     "text": [
      "\n",
      "No. of missing values before filling with group mode: 9030\n",
      "\n",
      "No. of missing values after filling with group mode: 0\n"
     ]
    },
    {
     "data": {
      "text/plain": [
       "0"
      ]
     },
     "execution_count": 20,
     "metadata": {},
     "output_type": "execute_result"
    }
   ],
   "source": [
    "#Credit_History_Age\n",
    "column_name = 'Credit_History_Age'\n",
    "sampah = 'NA'\n",
    "\n",
    "def Month_Converter(val):\n",
    "    if pd.notnull(val):\n",
    "        years = int(val.split(' ')[0])\n",
    "        month = int(val.split(' ')[3])\n",
    "        return (years*12)+month\n",
    "    else:\n",
    "        return val\n",
    "    \n",
    "df_train['Credit_History_Age'] = df_train['Credit_History_Age'].apply(lambda x: Month_Converter(x)).astype(float)\n",
    "fill_missing(df_train, column_name)\n",
    "df_train['Credit_History_Age'].isnull().sum()"
   ]
  },
  {
   "cell_type": "code",
   "execution_count": 21,
   "metadata": {},
   "outputs": [
    {
     "name": "stdout",
     "output_type": "stream",
     "text": [
      "\n",
      "Sampah NM is replaced with Blank\n",
      "['' 'No' 'Yes']\n",
      "\n",
      "No. of missing values before filling with group mode: 0\n",
      "\n",
      "No. of missing values after filling with group mode: 0\n",
      "Details of Payment_of_Min_Amount column\n",
      "\n",
      "Tipe Data:  int32\n",
      "\n",
      "There are no null values\n",
      "\n",
      "Number of Unique Values:  3\n",
      "\n",
      "Distribution of column:\n",
      "\n",
      "2    52326\n",
      "1    35667\n",
      "0    12007\n",
      "Name: Payment_of_Min_Amount, dtype: int64\n"
     ]
    },
    {
     "data": {
      "text/plain": [
       "0"
      ]
     },
     "execution_count": 21,
     "metadata": {},
     "output_type": "execute_result"
    }
   ],
   "source": [
    "#Payment_Of_Min_Amount\n",
    "column_name = 'Payment_of_Min_Amount'\n",
    "sampah = 'NM'\n",
    "\n",
    "cat_process(df_train, column_name,sampah)\n",
    "fill_missing(df_train, column_name)\n",
    "get_column_details(df_train, column_name)\n",
    "df_train\n",
    "df_train['Payment_of_Min_Amount'].isnull().sum()\n"
   ]
  },
  {
   "cell_type": "code",
   "execution_count": 22,
   "metadata": {},
   "outputs": [
    {
     "name": "stdout",
     "output_type": "stream",
     "text": [
      "\n",
      "Sampah !@9#%8 is replaced with Blank\n",
      "['' 'High_spent_Large_value_payments' 'High_spent_Medium_value_payments'\n",
      " 'High_spent_Small_value_payments' 'Low_spent_Large_value_payments'\n",
      " 'Low_spent_Medium_value_payments' 'Low_spent_Small_value_payments']\n",
      "\n",
      "No. of missing values before filling with group mode: 0\n",
      "\n",
      "No. of missing values after filling with group mode: 0\n",
      "Details of Payment_Behaviour column\n",
      "\n",
      "Tipe Data:  int32\n",
      "\n",
      "There are no null values\n",
      "\n",
      "Number of Unique Values:  7\n",
      "\n",
      "Distribution of column:\n",
      "\n",
      "6    25513\n",
      "2    17540\n",
      "5    13861\n",
      "1    13721\n",
      "3    11340\n",
      "4    10425\n",
      "0     7600\n",
      "Name: Payment_Behaviour, dtype: int64\n"
     ]
    },
    {
     "data": {
      "text/plain": [
       "0"
      ]
     },
     "execution_count": 22,
     "metadata": {},
     "output_type": "execute_result"
    }
   ],
   "source": [
    "#Payment_Behaviour\n",
    "column_name = 'Payment_Behaviour'\n",
    "sampah = '!@9#%8'\n",
    "\n",
    "cat_process(df_train, column_name,sampah)\n",
    "fill_missing(df_train, column_name)\n",
    "get_column_details(df_train, column_name)\n",
    "df_train\n",
    "df_train['Payment_Behaviour'].isnull().sum()"
   ]
  },
  {
   "cell_type": "code",
   "execution_count": 23,
   "metadata": {},
   "outputs": [
    {
     "data": {
      "text/plain": [
       "0"
      ]
     },
     "execution_count": 23,
     "metadata": {},
     "output_type": "execute_result"
    }
   ],
   "source": [
    "#Month\n",
    "df_train['Month'] = pd.to_datetime(df_train.Month, format='%B').dt.month\n",
    "df_train['Month'].isnull().sum()"
   ]
  },
  {
   "cell_type": "markdown",
   "metadata": {},
   "source": [
    "#Numerical"
   ]
  },
  {
   "cell_type": "code",
   "execution_count": 24,
   "metadata": {},
   "outputs": [
    {
     "name": "stdout",
     "output_type": "stream",
     "text": [
      "\n",
      "Trailing & leading _ are removed\n",
      "\n",
      "Datatype of Age is changed to <class 'int'>\n",
      "24.0\n",
      "42.0\n",
      "18.0\n",
      "\n",
      "No. of missing values before filling with group mode: 0\n",
      "\n",
      "No. of missing values after filling with group mode: 0\n",
      "0        0.876115\n",
      "1        0.876115\n",
      "2        3.010109\n",
      "3        0.876115\n",
      "4        0.876115\n",
      "           ...   \n",
      "99995    0.711962\n",
      "99996    0.711962\n",
      "99997    0.711962\n",
      "99998    0.711962\n",
      "99999    0.711962\n",
      "Name: Age, Length: 100000, dtype: float64\n"
     ]
    },
    {
     "data": {
      "image/png": "[encoded data removed]",
      "text/plain": [
       "<Figure size 2000x1000 with 1 Axes>"
      ]
     },
     "metadata": {},
     "output_type": "display_data"
    }
   ],
   "source": [
    "#Age\n",
    "column_name = 'Age'\n",
    "\n",
    "num_process(df_train, column_name, strip='_', datatype=int)\n",
    "fill_missing(df_train, column_name)\n",
    "plot(df_train, column_name)"
   ]
  },
  {
   "cell_type": "code",
   "execution_count": 25,
   "metadata": {},
   "outputs": [
    {
     "name": "stdout",
     "output_type": "stream",
     "text": [
      "\n",
      "Trailing & leading _ are removed\n",
      "\n",
      "Datatype of Annual_Income is changed to <class 'float'>\n",
      "19457.5\n",
      "72790.92\n",
      "53333.42\n",
      "\n",
      "No. of missing values before filling with group mode: 0\n",
      "\n",
      "No. of missing values after filling with group mode: 0\n",
      "0        0.830797\n",
      "1        0.830797\n",
      "2        0.830797\n",
      "3        0.830797\n",
      "4        0.830797\n",
      "           ...   \n",
      "99995    0.300487\n",
      "99996    0.300487\n",
      "99997    0.300487\n",
      "99998    0.300487\n",
      "99999    0.300487\n",
      "Name: Annual_Income, Length: 100000, dtype: float64\n"
     ]
    },
    {
     "data": {
      "image/png": "[encoded data removed]",
      "text/plain": [
       "<Figure size 2000x1000 with 1 Axes>"
      ]
     },
     "metadata": {},
     "output_type": "display_data"
    }
   ],
   "source": [
    "#Annual Income\n",
    "column_name = 'Annual_Income'\n",
    "\n",
    "num_process(df_train, column_name, strip='_', datatype=float)\n",
    "fill_missing(df_train, column_name)\n",
    "plot(df_train, column_name)"
   ]
  },
  {
   "cell_type": "code",
   "execution_count": 26,
   "metadata": {},
   "outputs": [
    {
     "name": "stdout",
     "output_type": "stream",
     "text": [
      "\n",
      "Datatype of Monthly_Inhand_Salary is changed to <class 'float'>\n",
      "1625.5682291666667\n",
      "5957.448333333334\n",
      "4331.880104166667\n",
      "\n",
      "No. of missing values before filling with group mode: 15002\n",
      "\n",
      "No. of missing values after filling with group mode: 0\n"
     ]
    }
   ],
   "source": [
    "#Monthly_Inhand_Salary\n",
    "column_name = 'Monthly_Inhand_Salary'\n",
    "\n",
    "num_process(df_train, column_name, strip='_', datatype=float)\n",
    "fill_missing(df_train, column_name)"
   ]
  },
  {
   "cell_type": "code",
   "execution_count": 27,
   "metadata": {},
   "outputs": [
    {
     "name": "stdout",
     "output_type": "stream",
     "text": [
      "\n",
      "Datatype of Num_Bank_Accounts is changed to <class 'int'>\n",
      "3.0\n",
      "7.0\n",
      "4.0\n",
      "\n",
      "No. of missing values before filling with group mode: 0\n",
      "\n",
      "No. of missing values after filling with group mode: 0\n",
      "0        0.907532\n",
      "1        0.907532\n",
      "2        0.907532\n",
      "3        0.907532\n",
      "4        0.907532\n",
      "           ...   \n",
      "99995    0.539811\n",
      "99996    0.539811\n",
      "99997    0.539811\n",
      "99998    0.539811\n",
      "99999    0.539811\n",
      "Name: Num_Bank_Accounts, Length: 100000, dtype: float64\n"
     ]
    },
    {
     "data": {
      "image/png": "[encoded data removed]",
      "text/plain": [
       "<Figure size 2000x1000 with 1 Axes>"
      ]
     },
     "metadata": {},
     "output_type": "display_data"
    }
   ],
   "source": [
    "#Num_Bank_Accounts\n",
    "column_name = 'Num_Bank_Accounts'\n",
    "\n",
    "num_process(df_train, column_name, strip='_', datatype=int)\n",
    "fill_missing(df_train, column_name)\n",
    "plot(df_train, column_name)"
   ]
  },
  {
   "cell_type": "code",
   "execution_count": 28,
   "metadata": {},
   "outputs": [
    {
     "name": "stdout",
     "output_type": "stream",
     "text": [
      "\n",
      "Datatype of Num_Credit_Card is changed to <class 'int'>\n",
      "4.0\n",
      "7.0\n",
      "3.0\n",
      "\n",
      "No. of missing values before filling with group mode: 0\n",
      "\n",
      "No. of missing values after filling with group mode: 0\n",
      "0        0.748691\n",
      "1        0.748691\n",
      "2        0.748691\n",
      "3        0.748691\n",
      "4        0.748691\n",
      "           ...   \n",
      "99995    0.148576\n",
      "99996    0.148576\n",
      "99997    0.148576\n",
      "99998    0.148576\n",
      "99999    0.148576\n",
      "Name: Num_Credit_Card, Length: 100000, dtype: float64\n"
     ]
    },
    {
     "data": {
      "image/png": "[encoded data removed]",
      "text/plain": [
       "<Figure size 2000x1000 with 1 Axes>"
      ]
     },
     "metadata": {},
     "output_type": "display_data"
    }
   ],
   "source": [
    "#Num_Credit_Card\n",
    "column_name = 'Num_Credit_Card'\n",
    "\n",
    "num_process(df_train, column_name, strip='_', datatype=int)\n",
    "fill_missing(df_train, column_name)\n",
    "plot(df_train, column_name)"
   ]
  },
  {
   "cell_type": "code",
   "execution_count": 29,
   "metadata": {},
   "outputs": [
    {
     "name": "stdout",
     "output_type": "stream",
     "text": [
      "\n",
      "Datatype of Interest_Rate is changed to <class 'int'>\n",
      "8.0\n",
      "20.0\n",
      "12.0\n",
      "\n",
      "No. of missing values before filling with group mode: 0\n",
      "\n",
      "No. of missing values after filling with group mode: 0\n",
      "0        1.296440\n",
      "1        1.296440\n",
      "2        1.296440\n",
      "3        1.296440\n",
      "4        1.296440\n",
      "           ...   \n",
      "99995    0.864616\n",
      "99996    0.864616\n",
      "99997    2.482026\n",
      "99998    0.864616\n",
      "99999    0.864616\n",
      "Name: Interest_Rate, Length: 100000, dtype: float64\n"
     ]
    },
    {
     "data": {
      "image/png": "[encoded data removed]",
      "text/plain": [
       "<Figure size 2000x1000 with 1 Axes>"
      ]
     },
     "metadata": {},
     "output_type": "display_data"
    }
   ],
   "source": [
    "#Interest_Rate\n",
    "column_name = 'Interest_Rate'\n",
    "\n",
    "num_process(df_train, column_name, strip='_', datatype=int)\n",
    "fill_missing(df_train, column_name)\n",
    "plot(df_train, column_name)"
   ]
  },
  {
   "cell_type": "code",
   "execution_count": 30,
   "metadata": {},
   "outputs": [
    {
     "name": "stdout",
     "output_type": "stream",
     "text": [
      "\n",
      "Trailing & leading _ are removed\n",
      "\n",
      "Datatype of Num_of_Loan is changed to <class 'int'>\n",
      "1.0\n",
      "5.0\n",
      "4.0\n",
      "\n",
      "No. of missing values before filling with group mode: 0\n",
      "\n",
      "No. of missing values after filling with group mode: 0\n",
      "0        0.257860\n",
      "1        0.257860\n",
      "2        0.257860\n",
      "3        0.257860\n",
      "4        0.257860\n",
      "           ...   \n",
      "99995    0.419142\n",
      "99996    0.419142\n",
      "99997    0.419142\n",
      "99998    0.419142\n",
      "99999    0.419142\n",
      "Name: Num_of_Loan, Length: 100000, dtype: float64\n"
     ]
    },
    {
     "data": {
      "image/png": "[encoded data removed]",
      "text/plain": [
       "<Figure size 2000x1000 with 1 Axes>"
      ]
     },
     "metadata": {},
     "output_type": "display_data"
    }
   ],
   "source": [
    "#Num_of_Loan\n",
    "column_name = 'Num_of_Loan'\n",
    "\n",
    "num_process(df_train, column_name, strip='_', datatype=int)\n",
    "fill_missing(df_train, column_name)\n",
    "plot(df_train, column_name)"
   ]
  },
  {
   "cell_type": "code",
   "execution_count": 31,
   "metadata": {},
   "outputs": [
    {
     "name": "stdout",
     "output_type": "stream",
     "text": [
      "\n",
      "Datatype of Delay_from_due_date is changed to <class 'int'>\n",
      "10.0\n",
      "28.0\n",
      "18.0\n",
      "\n",
      "No. of missing values before filling with group mode: 0\n",
      "\n",
      "No. of missing values after filling with group mode: 0\n",
      "0        1.240483\n",
      "1        1.517738\n",
      "2        1.240483\n",
      "3        1.101856\n",
      "4        1.032542\n",
      "           ...   \n",
      "99995    0.145792\n",
      "99996    0.200777\n",
      "99997    0.423047\n",
      "99998    0.062149\n",
      "99999    0.200777\n",
      "Name: Delay_from_due_date, Length: 100000, dtype: float64\n"
     ]
    },
    {
     "data": {
      "image/png": "[encoded data removed]",
      "text/plain": [
       "<Figure size 2000x1000 with 1 Axes>"
      ]
     },
     "metadata": {},
     "output_type": "display_data"
    }
   ],
   "source": [
    "#Delay_from_due_date\n",
    "column_name = 'Delay_from_due_date'\n",
    "\n",
    "num_process(df_train, column_name, strip='_', datatype=int)\n",
    "fill_missing(df_train, column_name)\n",
    "plot(df_train, column_name)"
   ]
  },
  {
   "cell_type": "code",
   "execution_count": 32,
   "metadata": {},
   "outputs": [
    {
     "name": "stdout",
     "output_type": "stream",
     "text": [
      "\n",
      "Trailing & leading _ are removed\n",
      "\n",
      "Datatype of Num_of_Delayed_Payment is changed to <class 'float'>\n",
      "9.0\n",
      "18.0\n",
      "9.0\n",
      "\n",
      "No. of missing values before filling with group mode: 7002\n",
      "\n",
      "No. of missing values after filling with group mode: 0\n",
      "0        1.031880e+00\n",
      "1        2.838174e-16\n",
      "2        1.031880e+00\n",
      "3        1.511205e+00\n",
      "4        2.838174e-16\n",
      "             ...     \n",
      "99995    1.031880e+00\n",
      "99996    1.031880e+00\n",
      "99997    1.191655e+00\n",
      "99998    2.838174e-16\n",
      "99999    1.191655e+00\n",
      "Name: Num_of_Delayed_Payment, Length: 100000, dtype: float64\n"
     ]
    },
    {
     "data": {
      "image/png": "[encoded data removed]",
      "text/plain": [
       "<Figure size 2000x1000 with 1 Axes>"
      ]
     },
     "metadata": {},
     "output_type": "display_data"
    }
   ],
   "source": [
    "#Num_of_Delayed_Payment\n",
    "column_name = 'Num_of_Delayed_Payment'\n",
    "\n",
    "num_process(df_train, column_name, strip='_', datatype=float)\n",
    "fill_missing(df_train, column_name)\n",
    "plot(df_train, column_name)"
   ]
  },
  {
   "cell_type": "code",
   "execution_count": 33,
   "metadata": {},
   "outputs": [
    {
     "name": "stdout",
     "output_type": "stream",
     "text": [
      "\n",
      "Sampah _ is replaced with Blank\n",
      "\n",
      "Datatype of Changed_Credit_Limit is changed to float\n",
      "5.32\n",
      "14.87\n",
      "9.549999999999999\n",
      "\n",
      "No. of missing values before filling with group mode: 2091\n",
      "\n",
      "No. of missing values after filling with group mode: 0\n",
      "0        0.133146\n",
      "1        0.133146\n",
      "2        0.000000\n",
      "3        0.614321\n",
      "4        0.133146\n",
      "           ...   \n",
      "99995    0.167529\n",
      "99996    0.167529\n",
      "99997    0.167529\n",
      "99998    0.167529\n",
      "99999    0.167529\n",
      "Name: Changed_Credit_Limit, Length: 100000, dtype: float64\n"
     ]
    },
    {
     "data": {
      "image/png": "[encoded data removed]",
      "text/plain": [
       "<Figure size 2000x1000 with 1 Axes>"
      ]
     },
     "metadata": {},
     "output_type": "display_data"
    }
   ],
   "source": [
    "#Changed_Credit_Limit\n",
    "column_name = 'Changed_Credit_Limit'\n",
    "sampah = '_'\n",
    "\n",
    "regex(df_train, column_name, sampah)\n",
    "df_train['Changed_Credit_Limit']=pd.to_numeric(df_train['Changed_Credit_Limit'], errors='coerce')\n",
    "num_process(df_train, column_name,  strip='_',datatype='float')\n",
    "fill_missing(df_train, column_name)\n",
    "plot(df_train, column_name)"
   ]
  },
  {
   "cell_type": "code",
   "execution_count": 34,
   "metadata": {},
   "outputs": [
    {
     "name": "stdout",
     "output_type": "stream",
     "text": [
      "\n",
      "Datatype of Num_Credit_Inquiries is changed to <class 'float'>\n",
      "3.0\n",
      "9.0\n",
      "6.0\n",
      "\n",
      "No. of missing values before filling with group mode: 1965\n",
      "\n",
      "No. of missing values after filling with group mode: 0\n",
      "0        0.484893\n",
      "1        0.484893\n",
      "2        0.484893\n",
      "3        0.484893\n",
      "4        0.484893\n",
      "           ...   \n",
      "99995    0.728955\n",
      "99996    0.728955\n",
      "99997    0.728955\n",
      "99998    0.728955\n",
      "99999    0.728955\n",
      "Name: Num_Credit_Inquiries, Length: 100000, dtype: float64\n"
     ]
    },
    {
     "data": {
      "image/png": "[encoded data removed]",
      "text/plain": [
       "<Figure size 2000x1000 with 1 Axes>"
      ]
     },
     "metadata": {},
     "output_type": "display_data"
    }
   ],
   "source": [
    "#Num_Credit_Inquiries\n",
    "column_name = 'Num_Credit_Inquiries'\n",
    "\n",
    "num_process(df_train, column_name, strip='_', datatype=float)\n",
    "fill_missing(df_train, column_name)\n",
    "plot(df_train, column_name)"
   ]
  },
  {
   "cell_type": "code",
   "execution_count": 35,
   "metadata": {},
   "outputs": [
    {
     "name": "stdout",
     "output_type": "stream",
     "text": [
      "\n",
      "Trailing & leading _ are removed\n",
      "\n",
      "Datatype of Outstanding_Debt is changed to <class 'float'>\n",
      "566.0725\n",
      "1945.9625\n",
      "1379.89\n",
      "\n",
      "No. of missing values before filling with group mode: 0\n",
      "\n",
      "No. of missing values after filling with group mode: 0\n",
      "0        0.543073\n",
      "1        0.543073\n",
      "2        0.543073\n",
      "3        0.543073\n",
      "4        0.543073\n",
      "           ...   \n",
      "99995    0.826266\n",
      "99996    0.826266\n",
      "99997    0.826266\n",
      "99998    0.826266\n",
      "99999    0.826266\n",
      "Name: Outstanding_Debt, Length: 100000, dtype: float64\n"
     ]
    },
    {
     "data": {
      "image/png": "[encoded data removed]",
      "text/plain": [
       "<Figure size 2000x1000 with 1 Axes>"
      ]
     },
     "metadata": {},
     "output_type": "display_data"
    }
   ],
   "source": [
    "#Outstanding_Debt\n",
    "column_name = 'Outstanding_Debt'\n",
    "\n",
    "num_process(df_train, column_name, strip='_', datatype=float)\n",
    "fill_missing(df_train, column_name)\n",
    "plot(df_train, column_name)"
   ]
  },
  {
   "cell_type": "code",
   "execution_count": 36,
   "metadata": {},
   "outputs": [
    {
     "name": "stdout",
     "output_type": "stream",
     "text": [
      "\n",
      "Datatype of Credit_Utilization_Ratio is changed to <class 'float'>\n",
      "28.05256656125577\n",
      "36.4966630559621\n",
      "8.444096494706333\n",
      "\n",
      "No. of missing values before filling with group mode: 0\n",
      "\n",
      "No. of missing values after filling with group mode: 0\n",
      "0        1.067570\n",
      "1        0.066486\n",
      "2        0.718380\n",
      "3        0.177317\n",
      "4        1.463379\n",
      "           ...   \n",
      "99995    0.464826\n",
      "99996    1.618294\n",
      "99997    1.753123\n",
      "99998    0.264434\n",
      "99999    0.372754\n",
      "Name: Credit_Utilization_Ratio, Length: 100000, dtype: float64\n"
     ]
    },
    {
     "data": {
      "image/png": "[encoded data removed]",
      "text/plain": [
       "<Figure size 2000x1000 with 1 Axes>"
      ]
     },
     "metadata": {},
     "output_type": "display_data"
    }
   ],
   "source": [
    "#Credit_Utilization_Ratio\n",
    "column_name = 'Credit_Utilization_Ratio'\n",
    "\n",
    "num_process(df_train, column_name, strip='_', datatype=float)\n",
    "fill_missing(df_train, column_name)\n",
    "plot(df_train, column_name)"
   ]
  },
  {
   "cell_type": "code",
   "execution_count": 37,
   "metadata": {},
   "outputs": [
    {
     "name": "stdout",
     "output_type": "stream",
     "text": [
      "\n",
      "Datatype of Total_EMI_per_month is changed to <class 'float'>\n",
      "30.306660494686994\n",
      "161.22424910969863\n",
      "130.91758861501165\n",
      "\n",
      "No. of missing values before filling with group mode: 0\n",
      "\n",
      "No. of missing values after filling with group mode: 0\n",
      "0        0.559441\n",
      "1        0.559441\n",
      "2        0.559441\n",
      "3        0.559441\n",
      "4        0.559441\n",
      "           ...   \n",
      "99995    0.697878\n",
      "99996    0.697878\n",
      "99997    0.697878\n",
      "99998    0.697878\n",
      "99999    0.697878\n",
      "Name: Total_EMI_per_month, Length: 100000, dtype: float64\n"
     ]
    },
    {
     "data": {
      "image/png": "[encoded data removed]",
      "text/plain": [
       "<Figure size 2000x1000 with 1 Axes>"
      ]
     },
     "metadata": {},
     "output_type": "display_data"
    }
   ],
   "source": [
    "#Total_EMI_per_month\n",
    "column_name = 'Total_EMI_per_month'\n",
    "\n",
    "num_process(df_train, column_name, strip='_', datatype=float)\n",
    "fill_missing(df_train, column_name)\n",
    "plot(df_train, column_name)"
   ]
  },
  {
   "cell_type": "code",
   "execution_count": 38,
   "metadata": {},
   "outputs": [
    {
     "name": "stdout",
     "output_type": "stream",
     "text": [
      "\n",
      "Trailing & leading _ are removed\n",
      "\n",
      "Datatype of Amount_invested_monthly is changed to <class 'float'>\n",
      "74.53400154390508\n",
      "265.7317330059456\n",
      "191.19773146204054\n",
      "\n",
      "No. of missing values before filling with group mode: 4479\n",
      "\n",
      "No. of missing values after filling with group mode: 0\n",
      "0        0.726369\n",
      "1        0.490952\n",
      "2        0.718385\n",
      "3        0.013755\n",
      "4        0.968813\n",
      "           ...   \n",
      "99995    0.847258\n",
      "99996    0.889444\n",
      "99997    1.076942\n",
      "99998    0.338387\n",
      "99999    0.187028\n",
      "Name: Amount_invested_monthly, Length: 100000, dtype: float64\n"
     ]
    },
    {
     "data": {
      "image/png": "[encoded data removed]",
      "text/plain": [
       "<Figure size 2000x1000 with 1 Axes>"
      ]
     },
     "metadata": {},
     "output_type": "display_data"
    }
   ],
   "source": [
    "#Amount_invested_monthly\n",
    "column_name = 'Amount_invested_monthly'\n",
    "\n",
    "num_process(df_train, column_name, strip='_', datatype=float)\n",
    "fill_missing(df_train, column_name)\n",
    "plot(df_train, column_name)"
   ]
  },
  {
   "cell_type": "code",
   "execution_count": 39,
   "metadata": {},
   "outputs": [
    {
     "name": "stdout",
     "output_type": "stream",
     "text": [
      "\n",
      "Trailing & leading _ are removed\n",
      "\n",
      "Datatype of Monthly_Balance is changed to <class 'float'>\n",
      "269.9857937858471\n",
      "469.64048738391693\n",
      "199.65469359806985\n",
      "\n",
      "No. of missing values before filling with group mode: 2868\n",
      "\n",
      "No. of missing values after filling with group mode: 0\n",
      "0        4.374446e-01\n",
      "1        5.991490e-01\n",
      "2        3.288342e-01\n",
      "3        9.541733e-01\n",
      "4        2.691815e-01\n",
      "             ...     \n",
      "99995    3.298709e-16\n",
      "99996    3.298709e-16\n",
      "99997    3.298709e-16\n",
      "99998    3.298709e-16\n",
      "99999    3.298709e-16\n",
      "Name: Monthly_Balance, Length: 100000, dtype: float64\n"
     ]
    },
    {
     "data": {
      "image/png": "[encoded data removed]",
      "text/plain": [
       "<Figure size 2000x1000 with 1 Axes>"
      ]
     },
     "metadata": {},
     "output_type": "display_data"
    }
   ],
   "source": [
    "#Monthly_Balance\n",
    "column_name = 'Monthly_Balance'\n",
    "\n",
    "num_process(df_train, column_name, strip='_', datatype=float)\n",
    "fill_missing(df_train, column_name)\n",
    "plot(df_train, column_name)"
   ]
  },
  {
   "cell_type": "code",
   "execution_count": 40,
   "metadata": {},
   "outputs": [],
   "source": [
    "#df_train.to_excel('creditscore_output.xlsx', engine='xlsxwriter')  "
   ]
  },
  {
   "cell_type": "code",
   "execution_count": 41,
   "metadata": {},
   "outputs": [
    {
     "name": "stdout",
     "output_type": "stream",
     "text": [
      "(100000, 23)\n",
      "(100000,)\n"
     ]
    }
   ],
   "source": [
    "#Spli Input & Output Data\n",
    "X = df_train.drop('Credit_Score',axis=1)\n",
    "y = df_train['Credit_Score']\n",
    "print(X.shape)\n",
    "print(y.shape)"
   ]
  },
  {
   "cell_type": "code",
   "execution_count": 42,
   "metadata": {},
   "outputs": [],
   "source": [
    "#Normalize Data\n",
    "from sklearn.preprocessing import MinMaxScaler\n",
    "from sklearn.preprocessing import StandardScaler\n",
    "scaler = MinMaxScaler()\n",
    "scaler2 = StandardScaler()\n",
    "X = scaler.fit_transform(X)"
   ]
  },
  {
   "cell_type": "code",
   "execution_count": 43,
   "metadata": {},
   "outputs": [
    {
     "name": "stdout",
     "output_type": "stream",
     "text": [
      "(80000, 23)\n",
      "(20000, 23)\n",
      "(80000,)\n",
      "(20000,)\n"
     ]
    }
   ],
   "source": [
    "#Split Data\n",
    "from sklearn.model_selection import train_test_split\n",
    "\n",
    "X_train, X_test, y_train, y_test = train_test_split(X, y, test_size=0.2, random_state=17,stratify=y)\n",
    "print(X_train.shape)\n",
    "print(X_test.shape)\n",
    "print(y_train.shape)\n",
    "print(y_test.shape)"
   ]
  },
  {
   "cell_type": "code",
   "execution_count": 44,
   "metadata": {},
   "outputs": [],
   "source": [
    "#Method to evaluate the performance of the model\n",
    "def evaluate_model(y_test,y_pred):\n",
    "    print(\"Classification Report\")\n",
    "    print(classification_report(y_test, y_pred))\n",
    "    \n",
    "    print(\"\\n---------------------------------------------\\n\")\n",
    "    # Compute confusion matrix\n",
    "    cm = confusion_matrix(y_test, y_pred)\n",
    "\n",
    "    # Create a heatmap of the confusion matrix using Seaborn\n",
    "    sns.heatmap(cm, annot=True, cmap='Greens',fmt='.0f')\n",
    "\n",
    "    plt.xlabel('Predicted Labels')\n",
    "    plt.ylabel('True Labels')\n",
    "    plt.title('Confusion Matrix')\n",
    "\n",
    "    plt.show()"
   ]
  },
  {
   "cell_type": "code",
   "execution_count": 45,
   "metadata": {},
   "outputs": [
    {
     "name": "stdout",
     "output_type": "stream",
     "text": [
      "Classifier: KNN\n",
      "Average Accuracy: 0.6563\n",
      "Average Precision: 0.6259\n",
      "Average Recall: 0.6334\n",
      "-----------------------\n"
     ]
    }
   ],
   "source": [
    "# List of classifiers to test\n",
    "classifiers = [\n",
    "    ('KNN', KNeighborsClassifier(n_neighbors=5))\n",
    "]\n",
    "\n",
    "# Iterate over each classifier and evaluate performance\n",
    "for clf_name, clf in classifiers:\n",
    "    # Perform cross-validation\n",
    "    scores = cross_val_score(clf, X_train, y_train, cv=5, scoring='accuracy')\n",
    "    \n",
    "    # Calculate average performance metrics\n",
    "    avg_accuracy = scores.mean()\n",
    "    avg_precision = cross_val_score(clf, X_train, y_train, cv=5, scoring='precision_macro').mean()\n",
    "    avg_recall = cross_val_score(clf, X_train, y_train, cv=5, scoring='recall_macro').mean()\n",
    "    \n",
    "    # Print the performance metrics\n",
    "    print(f'Classifier: {clf_name}')\n",
    "    print(f'Average Accuracy: {avg_accuracy:.4f}')\n",
    "    print(f'Average Precision: {avg_precision:.4f}')\n",
    "    print(f'Average Recall: {avg_recall:.4f}')\n",
    "    print('-----------------------')"
   ]
  },
  {
   "cell_type": "code",
   "execution_count": 48,
   "metadata": {},
   "outputs": [
    {
     "name": "stdout",
     "output_type": "stream",
     "text": [
      "Classification Report\n",
      "              precision    recall  f1-score   support\n",
      "\n",
      "           0       0.53      0.61      0.57      3566\n",
      "           1       0.67      0.63      0.65      5799\n",
      "           2       0.73      0.71      0.72     10635\n",
      "\n",
      "    accuracy                           0.67     20000\n",
      "   macro avg       0.64      0.65      0.65     20000\n",
      "weighted avg       0.68      0.67      0.67     20000\n",
      "\n",
      "\n",
      "---------------------------------------------\n",
      "\n"
     ]
    },
    {
     "data": {
      "image/png": "[encoded data removed]",
      "text/plain": [
       "<Figure size 640x480 with 2 Axes>"
      ]
     },
     "metadata": {},
     "output_type": "display_data"
    }
   ],
   "source": [
    "# Evaluating the model\n",
    "knn_clasifier = KNeighborsClassifier(n_neighbors=5)\n",
    "knn_clasifier.fit(X_train, y_train)\n",
    "y_pred = knn_clasifier.predict(X_test)\n",
    "evaluate_model(y_test, y_pred)"
   ]
  }
 ],
 "metadata": {
  "kernelspec": {
   "display_name": "Python 3.10.3 64-bit",
   "language": "python",
   "name": "python3"
  },
  "language_info": {
   "codemirror_mode": {
    "name": "ipython",
    "version": 3
   },
   "file_extension": ".py",
   "mimetype": "text/x-python",
   "name": "python",
   "nbconvert_exporter": "python",
   "pygments_lexer": "ipython3",
   "version": "3.10.3"
  },
  "orig_nbformat": 4,
  "vscode": {
   "interpreter": {
    "hash": "350ec87d84c6c58898f5c2e4bbb3396f5f55fe152cf4ea5d1a9ddc7ca48985be"
   }
  }
 },
 "nbformat": 4,
 "nbformat_minor": 2
}
